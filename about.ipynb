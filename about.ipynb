{
  "cells": [
    {
      "cell_type": "markdown",
      "metadata": {},
      "source": [
        "# About\n",
        "\n",
        "Les deux principaux objectifs de\n",
        "[`cartiflette`](https://github.com/InseeFrLab/cartiflette):\n",
        "\n",
        "-   faciliter et normaliser la récupération de fonds de carte officiels\n",
        "    pour simplifier le travail des cartographes qui désirent associer\n",
        "    leurs données à des fonds de carte administratifs ;\n",
        "-   enrichir les fonds de carte officiels pour limiter les préparations\n",
        "    de données à la charge des cartographes.\n",
        "\n",
        "Le projet a été initié dans le cadre du [Programme interministériel\n",
        "10%](https://10pourcent.etalab.studio/projets/insee/) qui vise à\n",
        "favoriser les échanges entre *data scientists* de l’administration\n",
        "française.\n",
        "\n",
        "**Plus de détails à venir**"
      ],
      "id": "1c2c4fa1-1ab5-4e08-a8b6-47e1edf51fcb"
    }
  ],
  "nbformat": 4,
  "nbformat_minor": 5,
  "metadata": {
    "kernelspec": {
      "display_name": "Python 3",
      "language": "python",
      "name": "python3"
    }
  }
}