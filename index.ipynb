{
  "cells": [
    {
      "cell_type": "markdown",
      "metadata": {},
      "source": [
        "# \n",
        "\n",
        "<!----\n",
        "Deuxième panel\n",
        "------>\n",
        "\n",
        "<!----------------\n",
        "CARTIFLETTE RELATED STUFFS\n",
        "----------------->\n",
        "\n",
        "<!--------\n",
        "Carte départements\n",
        "--------->\n",
        "\n",
        "<!-----------------\n",
        "Deuxième exemple\n",
        "------------------->\n",
        "\n",
        "<!---------\n",
        "Macro\n",
        "---------->\n",
        "\n",
        "<!----------------\n",
        "Fonctions qui étaient importées depuis @linogaliana/cartiflette-doc-utils\n",
        "et qu'on rappatrie ici pour plus de praticité\n",
        "----------------->\n",
        "\n",
        "## Récupérer un fond de carte France entière\n",
        "\n",
        "## Récupérer un fond de carte sur une emprise limitée\n",
        "\n",
        "<!--------\n",
        "Objets utiles\n",
        "---------->"
      ],
      "id": "a137d747-516c-4be4-b9c7-d5c3b8b18a97"
    }
  ],
  "nbformat": 4,
  "nbformat_minor": 5,
  "metadata": {
    "kernelspec": {
      "display_name": "Python 3",
      "language": "python",
      "name": "python3"
    }
  }
}