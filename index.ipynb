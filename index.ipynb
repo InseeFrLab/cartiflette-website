{
  "cells": [
    {
      "cell_type": "markdown",
      "metadata": {},
      "source": [
        "# \n",
        "\n",
        "<!----\n",
        "Deuxième panel\n",
        "------>\n",
        "\n",
        "<!----------------\n",
        "CARTIFLETTE RELATED STUFFS\n",
        "----------------->\n",
        "\n",
        "<!--------\n",
        "Carte départements\n",
        "--------->\n",
        "\n",
        "<!-----------------\n",
        "Deuxième exemple\n",
        "------------------->\n",
        "\n",
        "<!---------\n",
        "Macro\n",
        "---------->\n",
        "\n",
        "<!----------------\n",
        "Fonctions qui étaient importées depuis @linogaliana/cartiflette-doc-utils\n",
        "et qu'on rappatrie ici pour plus de praticité\n",
        "----------------->\n",
        "\n",
        "## Récupérer un fond de carte France entière\n",
        "\n",
        "## Récupérer un fond de carte sur une emprise limitée\n",
        "\n",
        "<!--------\n",
        "Objets utiles\n",
        "---------->"
      ],
      "id": "d05d39d7-94d1-4cc0-b32b-8e9b31e63b7e"
    }
  ],
  "nbformat": 4,
  "nbformat_minor": 5,
  "metadata": {
    "kernelspec": {
      "display_name": "Python 3",
      "language": "python",
      "name": "python3"
    }
  }
}