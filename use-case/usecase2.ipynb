{
  "cells": [
    {
      "cell_type": "markdown",
      "metadata": {},
      "source": [
        "# Faire une carte avec les DROM rapprochés grâce à cartiflette\n",
        "\n",
        "Lino Galiana\n",
        "\n",
        "<div class=\"alert alert-danger\" role=\"alert\">\n",
        "<h3 class=\"alert-heading\"><i class=\"fa-solid fa-triangle-exclamation\"></i> Important</h3>\n",
        "\n",
        "Cette page est un *work in progress*! Des exemples dans d’autres\n",
        "langages que `Python` viendront ultérieurement.\n",
        "\n",
        "Cette page fait partie d’une série de tutoriels illustrant les\n",
        "fonctionnalités de `cartiflette`. Pour retrouver la liste de ceux-ci,\n",
        "c’est [ici](../use-case/index.qmd)\n",
        "\n",
        "</div>\n",
        "\n",
        "Ce tutoriel vise à illustrer un cas d’usage classique de `cartiflette` :\n",
        "**récupérer de manière flexible un fonds de carte dont les\n",
        "<span class=\"yellow\">DROM sont rapprochés</span> et où on voit\n",
        "<span class=\"yellow\">un zoom sur l’Ile de France</span>**.\n",
        "\n",
        "Ce besoin classique est illustré en répliquant la carte faite par [Jules\n",
        "Grandin pour son podcast “La Minute\n",
        "Cartographique”](https://www.youtube.com/watch?v=mK7Hr2x895k) L’objectif\n",
        "final de ce tutoriel est de faire cette carte:"
      ],
      "id": "2e1205e7-504f-4099-a8b8-a112f4a0c134"
    },
    {
      "cell_type": "code",
      "execution_count": null,
      "metadata": {},
      "outputs": [
        {
          "output_type": "display_data",
          "metadata": {},
          "data": {}
        }
      ],
      "source": [],
      "id": "55fe59bf-d16e-4b96-a320-ea5601f12c8f"
    },
    {
      "cell_type": "code",
      "execution_count": null,
      "metadata": {},
      "outputs": [
        {
          "output_type": "display_data",
          "metadata": {},
          "data": {}
        }
      ],
      "source": [],
      "id": "773488ee-165e-4450-8905-7962b8c3ffd8"
    },
    {
      "cell_type": "code",
      "execution_count": null,
      "metadata": {},
      "outputs": [
        {
          "output_type": "display_data",
          "metadata": {},
          "data": {}
        }
      ],
      "source": [],
      "id": "64707043-8510-4aa5-8d79-deb04d34116c"
    },
    {
      "cell_type": "raw",
      "metadata": {
        "raw_mimetype": "text/html"
      },
      "source": [
        "<details>"
      ],
      "id": "85281af4-0f05-44cd-a24f-d8a218f0004a"
    },
    {
      "cell_type": "raw",
      "metadata": {
        "raw_mimetype": "text/html"
      },
      "source": [
        "<summary>"
      ],
      "id": "98309ca0-e3e6-4c6a-9238-bb62c166274e"
    },
    {
      "cell_type": "markdown",
      "metadata": {},
      "source": [
        "Voir l’épisode en question de “La Minute Cartographique”"
      ],
      "id": "8452b907-7dba-470a-b788-a78fd2d02fd9"
    },
    {
      "cell_type": "raw",
      "metadata": {
        "raw_mimetype": "text/html"
      },
      "source": [
        "</summary>"
      ],
      "id": "3a8b343d-2ed6-493a-8a80-b4234dff57a4"
    },
    {
      "cell_type": "markdown",
      "metadata": {},
      "source": [
        "<https://www.youtube.com/embed/mK7Hr2x895k?si=6nNRsJziuUjGsP5B>"
      ],
      "id": "ebad7c58-32f6-4a48-b223-64d85fa14cbd"
    },
    {
      "cell_type": "raw",
      "metadata": {
        "raw_mimetype": "text/html"
      },
      "source": [
        "</details>"
      ],
      "id": "747da446-6611-4063-ad9d-e7b132ace4e7"
    },
    {
      "cell_type": "markdown",
      "metadata": {},
      "source": [
        "# 1. Préliminaire: récupération des cheptels français\n",
        "\n",
        "La vidéo de Jules Grandin évoque une ouverture et préparation des\n",
        "données dans Excel 😱. Néanmois, en quelques lignes de code, on peut\n",
        "render ces données propres à l’analyse statistique et cartographique\n",
        "avec `Python` 😌"
      ],
      "id": "05219a0e-774e-4baa-9385-57d2400a21db"
    },
    {
      "cell_type": "code",
      "execution_count": 1,
      "metadata": {},
      "outputs": [
        {
          "output_type": "display_data",
          "metadata": {},
          "data": {
            "text/html": [
              "\n",
              "</div>"
            ]
          }
        }
      ],
      "source": [
        "import pandas as pd\n",
        "\n",
        "def import_cheptel():\n",
        "    url_cheptel = \"https://www.insee.fr/fr/statistiques/fichier/2012795/TCRD_073.xlsx\"\n",
        "\n",
        "    cheptel2022 = pd.read_excel(url_cheptel, header=3, na_values=\"nd\")\n",
        "    type_cheptel = cheptel2022.columns[~cheptel2022.columns.str.startswith(\"Unnamed\")]\n",
        "    cheptel2022.loc[:, type_cheptel] = cheptel2022.loc[:, type_cheptel].mul(1000)\n",
        "    cheptel2022 = cheptel2022.rename(\n",
        "        {\n",
        "            \"Unnamed: 0\": \"code\",\n",
        "            \"Unnamed: 1\": \"departement\",\n",
        "            \"Volailles gallus\": \"Volailles\",\n",
        "        },\n",
        "        axis=\"columns\",\n",
        "    )\n",
        "    type_cheptel = type_cheptel.str.replace(\" gallus\", \"\")\n",
        "    return cheptel2022, type_cheptel\n",
        "\n",
        "cheptel = import_cheptel()\n",
        "\n",
        "cheptel[0].head(4)"
      ],
      "id": "4fba868b"
    },
    {
      "cell_type": "markdown",
      "metadata": {},
      "source": [
        "En ce qui concerne la population, qui nous servira au dénominateur de\n",
        "notre indicateur, nous allons utiliser la variable fournie dans les\n",
        "données récupérées par le biais de `cartiflette`[1].\n",
        "\n",
        "# 2. Récupérer les contours modifiés via `cartiflette`\n",
        "\n",
        "## 2.1 La récupération des données utilisant `cartiflette`\n",
        "\n",
        "Notre objectif est de faire une carte aux caractéristiques suivantes:\n",
        "\n",
        "-   Les DROM sont rapprochés de la France hexagonale en étant placés\n",
        "    sous celle-ci ;\n",
        "-   Un cartogramme zoomé de la petite couronne parisienne (départements\n",
        "    de la Seine, Hauts-de-Seine, Seine-Saint-Denis et Val de Marne) est\n",
        "    disponible en haut à gauche de celle-ci.\n",
        "\n",
        "Construire soi-même ce fonds de carte est fastidieux, comme l’illustre\n",
        "la partie [Comment faire sans cartiflette](#sans-cartiflette). Avec\n",
        "`cartiflette`, ce fonds de carte est préconstruit à partir des\n",
        "découpages officiels de l’IGN. Il suffit de remplace le niveau\n",
        "`FRANCE_ENTIERE` en `FRANCE_ENTIERE_DROM_RAPPROCHES` dans l’appel à\n",
        "`carti_download`.\n",
        "\n",
        "``` python\n",
        "from cartiflette import carti_download\n",
        "\n",
        "departements = carti_download(\n",
        "    values=\"France\",\n",
        "    crs=4326,\n",
        "    borders=\"DEPARTEMENT\",\n",
        "    vectorfile_format=\"geojson\",\n",
        "    filter_by=\"FRANCE_ENTIERE_DROM_RAPPROCHES\",\n",
        "    source=\"EXPRESS-COG-CARTO-TERRITOIRE\",\n",
        "    year=2022,\n",
        ")\n",
        "```\n",
        "\n",
        "Listing 1: Example d’utilisation de cartiflette\n",
        "\n",
        "`departements` est un `GeoDataFrame` classique proposant les métadonnées\n",
        "usuelles de `cartiflette` avec des géographies modifiées pour rapprocher\n",
        "la France des DROM[2].\n",
        "\n",
        "[1] Dans l’idéal, nous utiliserions les [populations\n",
        "légales](https://www.insee.fr/fr/statistiques/7728787?sommaire=7728826)\n",
        "mesurées par l’Insee. Les fonds de carte de l’IGN proposent néanmoins\n",
        "déjà une variable `POPULATION` qui est celle qui sera utilisée ici. Des\n",
        "travaux ultérieurs sur `cartiflette` viseront à remplacer cette variable\n",
        "par les populations légales pour assurer que les métadonnées utilisées\n",
        "par les fonds de carte correspondent, au même titre que les découpages\n",
        "géométriques, aux données officielles.\n",
        "\n",
        "[2] Ce fonds de carte est en géométrie WGS84 (CRS: 4326). Ce n’est\n",
        "néanmoins qu’une apparence car les géométries nécessaires pour\n",
        "représenter les DROM et l’Ile de France sur cette carte ne correspondent\n",
        "à aucune réalité terrestre. Il ne faut donc considérer ce fonds de carte\n",
        "que pour la cartographie finale, pas la manipulation de données\n",
        "géographique (par exemple pour un calcul de distance terrestre). Pour\n",
        "celles-ci, le fonds de carte normal à utiliser est `FRANCE_ENTIERE`."
      ],
      "id": "b387bd64-f903-4456-b94f-c395882a73b2"
    },
    {
      "cell_type": "code",
      "execution_count": 5,
      "metadata": {},
      "outputs": [
        {
          "output_type": "display_data",
          "metadata": {},
          "data": {
            "image/png": "[encoded data removed]"
          }
        }
      ],
      "source": [
        "departements.boundary.plot(edgecolor = \"black\", linewidth=0.2)"
      ],
      "id": "389c2c0a"
    },
    {
      "cell_type": "markdown",
      "metadata": {},
      "source": [
        "## 2.2 Association du fonds de carte `cartiflette` au jeu de données initial\n",
        "\n",
        "La suite du travail n’est pas intrinsèquement lié à `cartiflette` mais\n",
        "correspond à de la manipulation de données spatiales nécessaires à la\n",
        "finalisation de la carte.\n",
        "\n",
        "Comme nous avons besoin de localiser les décomptes départements de\n",
        "bétail, nous faisons une jointure spatiale entre notre fonds de carte et\n",
        "nos cheptels"
      ],
      "id": "10d8eeb6-0b7b-4281-9650-07a298402e17"
    },
    {
      "cell_type": "code",
      "execution_count": 6,
      "metadata": {},
      "outputs": [],
      "source": [
        "cheptel_geospatial = departements.merge(\n",
        "    cheptel[0], left_on=\"INSEE_DEP\", right_on = \"code\"\n",
        ")"
      ],
      "id": "765ec8f1"
    },
    {
      "cell_type": "markdown",
      "metadata": {},
      "source": [
        "A partir de là, on finalise notre travail sur le jeu de données pour\n",
        "calculer le ratio entre le nombre de têtes et la population:"
      ],
      "id": "872e6b5e-005b-4197-88a4-0f15953f1b15"
    },
    {
      "cell_type": "code",
      "execution_count": 7,
      "metadata": {},
      "outputs": [],
      "source": [
        "def ratio_cheptel(type_cheptel, data_departement):\n",
        "    \"\"\"\n",
        "    Fonction permettant de rapporter, pour un type de bête donné,\n",
        "    le nombre de têtes par habitant d'un département \n",
        "    \"\"\"\n",
        "    data_departement = data_departement.copy()\n",
        "    data_departement[\"ratio_\" + type_cheptel] = (\n",
        "        data_departement.loc[:, type_cheptel]\n",
        "        .div(data_departement[\"POPULATION\"], axis=0)\n",
        "    )\n",
        "    data_departement[\"more_\" + type_cheptel] = (\n",
        "        data_departement[\"ratio_\" + type_cheptel] > 1\n",
        "    )\n",
        "    return data_departement.loc[:, \"more_\" + type_cheptel]\n",
        "\n",
        "eval_ratio = pd.concat(\n",
        "    [ratio_cheptel(bete, cheptel_geospatial) for bete in cheptel[1]],\n",
        "    axis = 1\n",
        ")\n",
        "\n",
        "cheptel_geospatial = pd.concat(\n",
        "    [cheptel_geospatial, eval_ratio],\n",
        "    axis = 1\n",
        ")"
      ],
      "id": "2e7fb6c2"
    },
    {
      "cell_type": "markdown",
      "metadata": {},
      "source": [
        "Le jeu de données prêt à l’emploi prend la forme suivante:"
      ],
      "id": "3014e3db-6d3a-4fbd-82eb-82046c43ddd0"
    },
    {
      "cell_type": "code",
      "execution_count": 8,
      "metadata": {},
      "outputs": [
        {
          "output_type": "display_data",
          "metadata": {},
          "data": {
            "text/html": [
              "\n",
              "</div>"
            ]
          }
        }
      ],
      "source": [
        "cheptel_geospatial.head(2)"
      ],
      "id": "2dc842e1"
    },
    {
      "cell_type": "markdown",
      "metadata": {},
      "source": [
        "## 2.3 Production de la carte interactive\n",
        "\n",
        "On peut maintenant se concentrer sur la carte. Pour la rendre plus\n",
        "informative, il est utile de contextualiser les départements en\n",
        "permettant aux spectateurs de la carte de connaître le nom des\n",
        "départements ayant un cheptel plus important que sa population.\n",
        "\n",
        "Cela peut être fait comme sur la carte d’origine de Jules Grandin en\n",
        "inscrivant les noms des départements concernés sur celle-ci. Cela\n",
        "nécessite tout de même un travail manuel important pour qui n’utilise\n",
        "pas une interface comme QGIS.\n",
        "\n",
        "Il est plus simple, pour les utilisateurs de logiciels comme `Python`,\n",
        "`R` ou `Javascript` de produire une carte interactive qui permet\n",
        "d’afficher des valeurs lorsqu’on passe la souris dessus. Il existe\n",
        "plusieurs écosystèmes pour faire cela, plus ou moins directement reliés\n",
        "à `Javascript`, le langage consacré pour ce type d’applications\n",
        "réactives.\n",
        "\n",
        "Les exemples ci-dessous proposent un code en `Python` pour faire une\n",
        "carte interactive par le biais de la librairie `Folium`. Cette manière\n",
        "de procéder étant un peu fastidieuse, car `Folium` n’est pas\n",
        "initialement conçu pour ce type de cartes, il est recommandé de\n",
        "privilégier la solution `Observable` qui est un *framework* `Javascript`\n",
        "ressemblant beaucoup à `Python` mais plus adapté que ce dernier pour la\n",
        "*dataviz*.\n",
        "\n",
        "En premier lieu, on définit une fonction générique qui permet de\n",
        "construire, pour un type de cheptel donné, la carte qui sera créée:"
      ],
      "id": "08180bc6-d10a-4760-8053-bd2ba2c2c3a2"
    },
    {
      "cell_type": "code",
      "execution_count": 9,
      "metadata": {},
      "outputs": [],
      "source": [
        "import folium\n",
        "import branca\n",
        "\n",
        "palettes = {\n",
        "    \"Bovins\": {True: \"#f9b439\", False: \"#d8d4d3\"},\n",
        "    \"Porcins\": {True: \"#ec6569\", False: \"#d8d4d3\"},\n",
        "    \"Ovins\": {True: \"#5eb04e\", False: \"#d8d4d3\"},\n",
        "    \"Caprins\": {True: \"#5eb04e\", False: \"#d8d4d3\"}\n",
        "}\n",
        "\n",
        "# Function to apply color based on the 'more_XXXXX' values\n",
        "def style_function(feature, bete):\n",
        "    more_bovins = feature['properties'][f'more_{bete}']\n",
        "    return {\n",
        "        'fillColor': palettes[bete][more_bovins],\n",
        "        'color': 'black',\n",
        "        'weight': 1,\n",
        "        'fillOpacity': 0.7,\n",
        "    }\n",
        "\n",
        "\n",
        "def map_repartition(cheptel_geospatial, bete):\n",
        "    white_tile = branca.utilities.image_to_url([[1, 1], [1, 1]])\n",
        "\n",
        "    # Initialize a folium map\n",
        "    m = folium.Map(\n",
        "        location=[\n",
        "            cheptel_geospatial.geometry.centroid.y.mean(), cheptel_geospatial.geometry.centroid.x.mean()\n",
        "        ],\n",
        "        zoom_start=5,\n",
        "        tiles=white_tile, attr=\"white tile\"\n",
        "    )\n",
        "\n",
        "\n",
        "    # Add GeoJson layer to the map\n",
        "    folium.GeoJson(\n",
        "        cheptel_geospatial,\n",
        "        style_function=lambda x: style_function(x, bete),\n",
        "        tooltip=folium.GeoJsonTooltip(\n",
        "            fields=['LIBELLE_DEPARTEMENT', 'POPULATION', bete],\n",
        "            aliases=['Department:', 'Population:', f'{bete}:'],\n",
        "            localize=True\n",
        "        )\n",
        "    ).add_to(m)\n",
        "\n",
        "    return m"
      ],
      "id": "a71a3fbd"
    },
    {
      "cell_type": "markdown",
      "metadata": {},
      "source": [
        "Pour créer celles-ci, il suffit dès lors d’appliquer la fonction sur le\n",
        "type d’élevage désiré:"
      ],
      "id": "f1406c2d-e39c-4299-8bca-6361b5507aa4"
    },
    {
      "cell_type": "code",
      "execution_count": 10,
      "metadata": {},
      "outputs": [],
      "source": [
        "map_repartition(cheptel_geospatial, \"Bovins\")\n",
        "map_repartition(cheptel_geospatial, \"Porcins\")\n",
        "map_repartition(cheptel_geospatial, \"Ovins\")"
      ],
      "id": "331b9f02"
    },
    {
      "cell_type": "markdown",
      "metadata": {},
      "source": [
        "Néanmoins, ce n’est pas la méthode adoptée pour créer les cartes\n",
        "ci-dessous:"
      ],
      "id": "c5b764cb-7770-4719-bdb6-997040cad931"
    },
    {
      "cell_type": "code",
      "execution_count": null,
      "metadata": {},
      "outputs": [
        {
          "output_type": "display_data",
          "metadata": {},
          "data": {}
        }
      ],
      "source": [],
      "id": "923fbf10-bd8a-4705-a186-f231f3eccdae"
    },
    {
      "cell_type": "markdown",
      "metadata": {},
      "source": [
        "Pour cela, il vaut mieux utiliser `Javascript` par le biais\n",
        "d’`Observable` dont le code est disponible dans la boite déroulable\n",
        "ci-dessous:\n",
        "\n",
        "> **Comment faire avec `Javascript` ?**\n",
        ">\n",
        "> Ce tutoriel utilise le *framework* `Observable` par le biais de\n",
        "> `Quarto`, l’outil de construction de site web développé par `Posit`.\n",
        "> Le code source de cette page est disponible\n",
        "> [ici](https://github.com/InseeFrLab/cartiflette-website/blob/master/use-case/usecase2.qmd)[1].\n",
        ">\n",
        "> Pour se simplifier la tâche, on va créer une fonction graphique qui\n",
        "> prend en *input* un `Array` et un type d’élevage (par exemple\n",
        "> *“Bovins”*) et renvoie une carte:\n",
        ">\n",
        "> Celle-ci utilise un certain nombre d’ingrédients. En premier lieu, des\n",
        "> *arrays* permettant de changer les valeurs affichées en fonction de la\n",
        "> valeur du *widget* sélectionné :\n",
        ">\n",
        "> ``` js\n",
        "> labels = [\n",
        ">     {type: \"Bovins\", true: \"Plus de vaches 🐮\", false: \"Plus d'habitants\"},\n",
        ">     {type: \"Porcins\", true: \"Plus de cochons 🐷\", false: \"Plus d'habitants\"},\n",
        ">     {type: \"Ovins\", true: \"Plus de moutons 🐑\", false: \"Plus d'habitants\"},\n",
        ">     {type: \"Caprins\", true: \"Plus de chèvres 🐐\", false: \"Plus d'habitants\"}\n",
        "> ]\n",
        "> title = [\n",
        ">     {type: \"Bovins\", title: \"Plus de vaches 🐮 ou d'habitants ?\"},\n",
        ">     {type: \"Porcins\", title: \"Plus de cochons 🐷 ou d'habitants ?\"},\n",
        ">     {type: \"Ovins\", title: \"Plus de moutons 🐑 ou d'habitants ?\"},\n",
        ">     {type: \"Caprins\", title: \"Plus de chèvres 🐐 ou d'habitants ?\"}\n",
        "> ]\n",
        "> palettes = [\n",
        ">     {\n",
        ">         name: \"Bovins\",\n",
        ">         trueColor: \"#f9b439\",\n",
        ">         falseColor: \"#d8d4d3\"\n",
        ">     },\n",
        ">     {\n",
        ">         name: \"Porcins\",\n",
        ">         trueColor: \"#ec6569\",\n",
        ">         falseColor: \"#d8d4d3\"\n",
        ">     },\n",
        ">     {\n",
        ">         name: \"Ovins\",\n",
        ">         trueColor: \"#5eb04e\",\n",
        ">         falseColor: \"#d8d4d3\"\n",
        ">     },\n",
        ">     {\n",
        ">         name: \"Caprins\",\n",
        ">         trueColor: \"#00b5ed\",\n",
        ">         falseColor: \"#d8d4d3\"\n",
        ">     }\n",
        "> ]\n",
        ">\n",
        "> title_chosen = title.filter(d => d.type == bete)[0].title\n",
        "> ```\n",
        ">\n",
        "> Ce *widget* est un [radio\n",
        "> button](https://developer.mozilla.org/fr/docs/Web/HTML/Element/input/radio)\n",
        "> qui peut être créé par le code suivant, permettant à la fois d’exposer\n",
        "> celui-ci sur l’interface et de stocker sa valeur active dans la\n",
        "> variable `bete`\n",
        ">\n",
        "> ``` js\n",
        "> viewof bete = Inputs.radio(\n",
        ">     new Map([[\"Vaches 🐮\", \"Bovins\"], [\"Cochons 🐷\", \"Porcins\"], [\"Moutons 🐑\", \"Ovins\"]]), {value: \"Bovins\"}\n",
        "> )\n",
        "> ```\n",
        ">\n",
        "> Il ne manque qu’à importer les données nécessaires à la carte dans\n",
        "> `Javascript`. La fonction\n",
        "> [`ojs_define`](https://quarto.org/docs/interactive/ojs/data-sources.html)\n",
        "> permettant la transmission d’un objet `Python` à `R` ne fonctionnant\n",
        "> pas pour un `GeoPandas`, le plus simple est de créer un GeoJSON en\n",
        "> `Python` :\n",
        ">\n",
        "> ``` python\n",
        "> cheptel_geospatial.to_file(\n",
        ">     \"cheptel.json\", driver=\"GeoJSON\"\n",
        "> )\n",
        "> ```\n",
        ">\n",
        "> Il suffit ensuite d’importer celui-ci avec la fonction\n",
        "> [`FileAttachment`](https://quarto.org/docs/interactive/ojs/data-sources.html)\n",
        "> d’`Observable`\n",
        ">\n",
        "> ``` js\n",
        "> cheptel = FileAttachment(\"cheptel.json\").json()\n",
        "> ```\n",
        "\n",
        "# 3. Comment faire sans `cartiflette` ?\n",
        "\n",
        "-   1️⃣ Télécharger les données et les enregistrer sur le disque, en\n",
        "    local.\n",
        "-   2️⃣ Dézipper la version téléchargée (le format est une archive 7z) et\n",
        "    enregistrer l’arborescence obtenue sur le disque.\n",
        "-   3️⃣ Importer le bon *shapefile* dans `Python` et découper celui-ci en\n",
        "    différents espaces qui seront reprojetés\n",
        "-   4️⃣ Pour chaque DROM et département de l’Île de France, modifier la\n",
        "    géométrie en jouant sur des translations et rotations\n",
        "-   5️⃣ Consolider le fond de carte à partir des différents éléments\n",
        "    obtenus\n",
        "\n",
        "La première étape consiste donc à télécharger le fichier depuis le site\n",
        "de mise à disposition de l’IGN. L’archive étant assez volumineuse, le\n",
        "code proposé propose une barre de progrès pour s’assurer que le\n",
        "téléchargement progresse.\n",
        "\n",
        "Le code étant assez long, il n’est pas apparent par défaut mais il\n",
        "suffit de cliquer ci-dessous:\n",
        "\n",
        "``` python\n",
        "import os\n",
        "import requests\n",
        "import py7zr\n",
        "from tqdm import tqdm\n",
        "\n",
        "# Step 1: Download the file with progress bar\n",
        "url = \"https://data.geopf.fr/telechargement/download/ADMIN-EXPRESS-COG-CARTO/ADMIN-EXPRESS-COG-CARTO_3-1__SHP_WGS84G_FRA_2022-04-15/ADMIN-EXPRESS-COG-CARTO_3-1__SHP_WGS84G_FRA_2022-04-15.7z\"\n",
        "file_name = url.split(\"/\")[-1]\n",
        "\n",
        "def download_7z_archive(file_name):\n",
        "    if os.path.exists(file_name) is False:\n",
        "        # Streaming download with progress bar\n",
        "        print(\"Downloading file...\")\n",
        "        response = requests.get(url, stream=True)\n",
        "        total_size = int(response.headers.get('content-length', 0))\n",
        "\n",
        "        with open(file_name, 'wb') as file, tqdm(\n",
        "                desc=file_name,\n",
        "                total=total_size,\n",
        "                unit='iB',\n",
        "                unit_scale=True,\n",
        "                unit_divisor=1024,\n",
        "            ) as bar:\n",
        "            for chunk in response.iter_content(chunk_size=8192):\n",
        "                size = file.write(chunk)\n",
        "                bar.update(size)\n",
        "\n",
        "        print(f\"Downloaded {file_name}\")\n",
        "        return file_name\n",
        "    else:\n",
        "        print(\"File exists, please delete it before going further\")\n",
        "\n",
        "download_7z_archive(file_name)\n",
        "```\n",
        "\n",
        "Listing 2: 1️⃣ Code pour télécharger les données\n",
        "\n",
        "La deuxième étape consiste à dézipper la version téléchargée en local\n",
        "\n",
        "``` python\n",
        "def extract_7z_archive(\n",
        "    file_name, output_dir = \"extracted_files\"\n",
        "):\n",
        "    # Step 2: Extract the .7z file\n",
        "    os.makedirs(output_dir, exist_ok=True)\n",
        "\n",
        "    print(\"Extracting the file...\")\n",
        "    with py7zr.SevenZipFile(file_name, mode='r') as z:\n",
        "        z.extractall(path=output_dir)\n",
        "    print(f\"Extracted to {output_dir}\")\n",
        "    return output_dir\n",
        "\n",
        "extract_7z_archive(file_name)\n",
        "```\n",
        "\n",
        "Listing 3: 2️⃣ Dézipper la version téléchargée\n",
        "\n",
        "[1] `Javascript` est un langage asynchrone donc l’exécution du code ne\n",
        "dépend pas de l’ordre de définition des objets dans le code,\n",
        "contrairement à `Python`. Il est donc normal de voir dans les codes\n",
        "ci-dessous une utilisation d’une variable, par exemple `bete`, qui n’est\n",
        "pas définie en amont. Celle-ci peut être définie plus loin dans le code,\n",
        "c’est `Javascript` qui va réordonner de manière logique l’exécution du\n",
        "code."
      ],
      "id": "d918eb28-a61b-45e6-9e24-a8f885e4209f"
    },
    {
      "cell_type": "code",
      "execution_count": 14,
      "metadata": {},
      "outputs": [],
      "source": [
        "import geopandas as gpd\n",
        "\n",
        "path_extraction = \"./extracted_files/ADMIN-EXPRESS-COG-CARTO_3-1__SHP_WGS84G_FRA_2022-04-15/ADMIN-EXPRESS-COG-CARTO/1_DONNEES_LIVRAISON_2022-04-15/ADECOGC_3-1_SHP_WGS84G_FRA/\"\n",
        "\n",
        "# Limites communales\n",
        "france = gpd.read_file(f\"{path_extraction}/COMMUNE.shp\")\n",
        "hexagone = france.loc[\n",
        "    ~france[\"INSEE_DEP\"].isin([\"971\", \"972\", \"973\", \"974\", \"976\"])\n",
        "]\n",
        "guadeloupe = france.loc[france[\"INSEE_DEP\"] == \"971\"]\n",
        "martinique = france.loc[france[\"INSEE_DEP\"] == \"972\"]\n",
        "guyane = france.loc[france[\"INSEE_DEP\"] == \"973\"]\n",
        "reunion = france.loc[france[\"INSEE_DEP\"] == \"974\"]\n",
        "mayotte = france.loc[france[\"INSEE_DEP\"] == \"976\"]"
      ],
      "id": "79a6eeab"
    }
  ],
  "nbformat": 4,
  "nbformat_minor": 5,
  "metadata": {
    "kernelspec": {
      "name": "python3",
      "display_name": "Python 3 (ipykernel)",
      "language": "python",
      "path": "/opt/hostedtoolcache/Python/3.11.9/x64/share/jupyter/kernels/python3"
    },
    "language_info": {
      "name": "python",
      "codemirror_mode": {
        "name": "ipython",
        "version": "3"
      },
      "file_extension": ".py",
      "mimetype": "text/x-python",
      "nbconvert_exporter": "python",
      "pygments_lexer": "ipython3",
      "version": "3.11.9"
    }
  }
}